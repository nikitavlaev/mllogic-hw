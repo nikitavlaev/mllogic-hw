{
 "cells": [
  {
   "cell_type": "code",
   "execution_count": 11,
   "metadata": {},
   "outputs": [
    {
     "name": "stdout",
     "output_type": "stream",
     "text": [
      "[[1 0 0 0 0 7 0 9 0]\n",
      " [0 3 0 0 2 0 0 0 8]\n",
      " [0 0 9 6 0 0 5 0 0]\n",
      " [0 0 5 3 0 0 9 0 0]\n",
      " [0 1 0 0 8 0 0 0 2]\n",
      " [6 0 0 0 0 4 0 0 0]\n",
      " [3 0 0 0 0 0 0 1 0]\n",
      " [0 4 0 0 0 0 0 0 7]\n",
      " [0 0 7 0 0 0 3 0 0]]\n"
     ]
    }
   ],
   "source": [
    "import pycosat\n",
    "import numpy as np\n",
    "\n",
    "data = np.loadtxt('input.txt', dtype='int')\n",
    "print(data)\n",
    "if data.shape[0] != data.shape[1]:\n",
    "    print(\"Not square-shaped table\")\n",
    "    exit(1)\n",
    "if data.shape[0] != 9:\n",
    "    print(\"Table should be 9x9\")\n",
    "    exit(2)"
   ]
  },
  {
   "cell_type": "code",
   "execution_count": 2,
   "metadata": {},
   "outputs": [],
   "source": [
    "def encode_cell(row,col,num):\n",
    "    return 100 * num + 10 * row + col "
   ]
  },
  {
   "cell_type": "code",
   "execution_count": 5,
   "metadata": {},
   "outputs": [],
   "source": [
    "def show_res(res):\n",
    "    ans = np.zeros((9,9), dtype = 'int')\n",
    "    for i in range(1, 10):\n",
    "        for j in range(1, 10):\n",
    "            for num in range(1, 10):\n",
    "                if encode_cell(i,j,num) in res:\n",
    "                    ans[i-1,j-1] = num\n",
    "    return ans                "
   ]
  },
  {
   "cell_type": "code",
   "execution_count": 12,
   "metadata": {},
   "outputs": [
    {
     "name": "stdout",
     "output_type": "stream",
     "text": [
      "[[1 6 2 8 5 7 4 9 3]\n",
      " [5 3 4 1 2 9 6 7 8]\n",
      " [7 8 9 6 4 3 5 2 1]\n",
      " [4 7 5 3 1 2 9 8 6]\n",
      " [9 1 3 5 8 6 7 4 2]\n",
      " [6 2 8 7 9 4 1 3 5]\n",
      " [3 5 6 4 7 8 2 1 9]\n",
      " [2 4 1 9 3 5 8 6 7]\n",
      " [8 9 7 2 6 1 3 5 4]]\n"
     ]
    }
   ],
   "source": [
    "cnf = []\n",
    "ids = range(1, 10)\n",
    "#add \"each cell contains at least one number and at most one number\"\n",
    "for i in ids:\n",
    "    for j in ids:\n",
    "        cnf.append([encode_cell(i,j,num) for num in range(1,10)]) #at least one\n",
    "        res = []\n",
    "        for ii in range(1,10):\n",
    "            for jj in range(ii + 1,10):\n",
    "                cnf.append([-encode_cell(i,j,ii), -encode_cell(i,j,jj)]) #not two different at the same time\n",
    "                \n",
    "#do not touch cells given\n",
    "for i in ids:\n",
    "    for j in ids:\n",
    "        if data[i-1,j-1] != 0:\n",
    "            cnf.append([encode_cell(i,j,data[i-1,j-1].item())]) \n",
    "#add \"each row and col and 3x3 contains every number\"\n",
    "for i in ids:\n",
    "    i33 = (i - 1) // 3 \n",
    "    j33 = (i - 1) % 3\n",
    "    for j1 in ids:\n",
    "        for j2 in range(j1 + 1,10):\n",
    "            for num in range(1,10):\n",
    "                cnf.append([-encode_cell(i,j1,num), -encode_cell(i,j2,num)])\n",
    "                cnf.append([-encode_cell(j1,i,num), -encode_cell(j2,i,num)])\n",
    "                cnf.append([-encode_cell(i33 * 3 + (j1 - 1) // 3 + 1, j33 * 3 + (j1 - 1) % 3 + 1,num),\n",
    "                            -encode_cell(i33 * 3 + (j2 - 1) // 3 + 1, j33 * 3 + (j2 - 1) % 3 + 1,num)])\n",
    "                \n",
    "    \n",
    "res = pycosat.solve(cnf)\n",
    "if res == \"UNSAT\" or res == \"UNKNOWN\":\n",
    "    print(res)\n",
    "else:    \n",
    "    print(show_res(res))"
   ]
  }
 ],
 "metadata": {
  "kernelspec": {
   "display_name": "base",
   "language": "python",
   "name": "base"
  },
  "language_info": {
   "codemirror_mode": {
    "name": "ipython",
    "version": 3
   },
   "file_extension": ".py",
   "mimetype": "text/x-python",
   "name": "python",
   "nbconvert_exporter": "python",
   "pygments_lexer": "ipython3",
   "version": "3.7.6"
  }
 },
 "nbformat": 4,
 "nbformat_minor": 4
}
