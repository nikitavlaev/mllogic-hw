{
 "cells": [
  {
   "cell_type": "code",
   "execution_count": 26,
   "metadata": {
    "scrolled": true
   },
   "outputs": [
    {
     "name": "stdout",
     "output_type": "stream",
     "text": [
      "[[0 0 0]\n",
      " [0 1 2]\n",
      " [0 2 1]]\n"
     ]
    }
   ],
   "source": [
    "#values: 0,1,2,3...\n",
    "import numpy as np\n",
    "\n",
    "data = np.loadtxt('input.txt', dtype = np.int32)\n",
    "print(data)\n",
    "dim = data.shape[0]"
   ]
  },
  {
   "cell_type": "code",
   "execution_count": 27,
   "metadata": {},
   "outputs": [],
   "source": [
    "#check for commutativity\n",
    "\n",
    "def check_for_com(data):\n",
    "    return np.allclose(data, data.T, rtol=1e-05, atol=1e-08)"
   ]
  },
  {
   "cell_type": "code",
   "execution_count": 28,
   "metadata": {},
   "outputs": [],
   "source": [
    "#check for neutral\n",
    "\n",
    "def check_array(arr):\n",
    "    for i, x in np.ndenumerate(arr):\n",
    "        if i != x:\n",
    "            return False\n",
    "    return True\n",
    "\n",
    "def get_neutral(data):\n",
    "    neutr_mask_rows = np.apply_along_axis(check_array, axis=1, arr=data)\n",
    "    neutral_rows = next((i for i, x in enumerate(neutr_mask_rows) if x), None)\n",
    "    neutral = neutral_rows if check_array(data[:, neutral_rows]) else None\n",
    "    return neutral\n",
    "    "
   ]
  },
  {
   "cell_type": "code",
   "execution_count": 29,
   "metadata": {},
   "outputs": [],
   "source": [
    "#check for reversibility\n",
    "\n",
    "def check_for_rev(neutral, data):\n",
    "    dim = data.shape[0]\n",
    "    covrd_xs = list(range(dim))\n",
    "    covrd_ys = list(range(dim))\n",
    "    for (i,j), x in np.ndenumerate(data):\n",
    "        if x == neutral:\n",
    "            try:\n",
    "                covrd_xs.remove(i)\n",
    "                covrd_ys.remove(j)\n",
    "            except ValueError:\n",
    "                continue\n",
    "    return len(covrd_xs) + len(covrd_ys) == 0"
   ]
  },
  {
   "cell_type": "code",
   "execution_count": 30,
   "metadata": {},
   "outputs": [],
   "source": [
    "#check for associativity\n",
    "\n",
    "def check_for_assoc(data):\n",
    "    is_assoc = True\n",
    "    for (i,j), x in np.ndenumerate(data):\n",
    "        for k in range(dim):\n",
    "            is_assoc = is_assoc and data[x,k] == data[i,data[j,k]]\n",
    "    return is_assoc\n",
    "    "
   ]
  },
  {
   "cell_type": "code",
   "execution_count": 31,
   "metadata": {},
   "outputs": [
    {
     "name": "stdout",
     "output_type": "stream",
     "text": [
      "commutative monoid\n"
     ]
    }
   ],
   "source": [
    "is_assoc = check_for_assoc(data)\n",
    "\n",
    "if is_assoc:\n",
    "    is_com = check_for_com(data)\n",
    "    neutral = get_neutral(data)\n",
    "    if neutral is not None:\n",
    "        is_rev = check_for_rev(neutral, data)\n",
    "        if is_rev:\n",
    "            if is_com:\n",
    "                print(\"Abel group\")\n",
    "            else:\n",
    "                print(\"group\")\n",
    "        else:\n",
    "            if is_com:\n",
    "                print(\"commutative monoid\")\n",
    "            else:\n",
    "                print(\"monoid\")\n",
    "    else:\n",
    "        print(\"semigroup\")\n",
    "else:\n",
    "    print(\"magma\")"
   ]
  }
 ],
 "metadata": {
  "kernelspec": {
   "display_name": "base",
   "language": "python",
   "name": "base"
  },
  "language_info": {
   "codemirror_mode": {
    "name": "ipython",
    "version": 3
   },
   "file_extension": ".py",
   "mimetype": "text/x-python",
   "name": "python",
   "nbconvert_exporter": "python",
   "pygments_lexer": "ipython3",
   "version": "3.7.6"
  }
 },
 "nbformat": 4,
 "nbformat_minor": 4
}
