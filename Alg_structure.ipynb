{
 "cells": [
  {
   "cell_type": "code",
   "execution_count": 14,
   "metadata": {
    "scrolled": true
   },
   "outputs": [
    {
     "name": "stdout",
     "output_type": "stream",
     "text": [
      "[[0 0 0]\n",
      " [0 1 2]\n",
      " [0 2 1]]\n"
     ]
    }
   ],
   "source": [
    "#values: 0,1,2,3...\n",
    "import numpy as np\n",
    "data = np.loadtxt('input.txt', dtype = np.int32)\n",
    "print(data)\n",
    "dim = data.shape[0]"
   ]
  },
  {
   "cell_type": "code",
   "execution_count": 15,
   "metadata": {},
   "outputs": [],
   "source": [
    "#check for commutativity\n",
    "def check_for_com(data):\n",
    "    is_com = True\n",
    "    for (i, j), x in np.ndenumerate(data):\n",
    "        is_com = is_com and x == data[j,i]\n",
    "    return is_com    "
   ]
  },
  {
   "cell_type": "code",
   "execution_count": 16,
   "metadata": {},
   "outputs": [],
   "source": [
    "#check for neutral\n",
    "\n",
    "def check_array(arr):\n",
    "    for i, x in np.ndenumerate(arr):\n",
    "        if i != x:\n",
    "            return False\n",
    "    else:\n",
    "        return True\n",
    "\n",
    "def get_neutral(is_com, data):\n",
    "    neutr_mask_rows = np.apply_along_axis(check_array, axis=1, arr=data)\n",
    "    neutral_rows = next((i for i, x in enumerate(neutr_mask_rows) if x), None)\n",
    "    if not is_com:\n",
    "        neutral = neutral_rows if check_array(data[:, neutral_rows]) else None\n",
    "    else:\n",
    "        neutral = neutral_rows\n",
    "    return neutral\n",
    "    "
   ]
  },
  {
   "cell_type": "code",
   "execution_count": 17,
   "metadata": {},
   "outputs": [],
   "source": [
    "#check for reversibility\n",
    "\n",
    "def check_for_rev(is_com, neutral, data): \n",
    "    \n",
    "    def check_array_for_neutral(arr, neutral = neutral):\n",
    "        for x in np.nditer(arr):\n",
    "            if x == neutral:\n",
    "                return True\n",
    "        else:\n",
    "            return False\n",
    "    \n",
    "    if neutral is None:\n",
    "        is_rev = False\n",
    "    else:\n",
    "        neutr_is_in_row = np.apply_along_axis(check_array_for_neutral, axis=1, arr=data)\n",
    "        no_neutral_row = next((i for i, x in enumerate(neutr_is_in_row) if not x), None)\n",
    "\n",
    "        if no_neutral_row is None:\n",
    "            if not is_com:\n",
    "                neutr_is_in_col = np.apply_along_axis(check_array_for_neutral, axis=1, arr=data.T)\n",
    "                no_neutral_col = next((i for i, x in enumerate(neutr_is_in_row) if not x), None)\n",
    "                is_rev = no_neutral_col is None\n",
    "            else:\n",
    "                is_rev = True    \n",
    "        else:\n",
    "            is_rev = False\n",
    "    return is_rev        \n",
    "    "
   ]
  },
  {
   "cell_type": "code",
   "execution_count": 18,
   "metadata": {},
   "outputs": [],
   "source": [
    "#check for associativity\n",
    "\n",
    "def check_for_assoc(data):\n",
    "    is_assoc = True\n",
    "    for (i,j), x in np.ndenumerate(data):\n",
    "        for k in range(dim):\n",
    "            is_assoc = is_assoc and data[x,k] == data[i,data[j,k]]\n",
    "    return is_assoc\n",
    "    "
   ]
  },
  {
   "cell_type": "code",
   "execution_count": 19,
   "metadata": {},
   "outputs": [
    {
     "name": "stdout",
     "output_type": "stream",
     "text": [
      "commutative monoid\n"
     ]
    }
   ],
   "source": [
    "is_assoc = check_for_assoc(data)\n",
    "\n",
    "if is_assoc:\n",
    "    is_com = check_for_com(data)\n",
    "    neutral = get_neutral(is_com, data)\n",
    "    if neutral is not None:\n",
    "        is_rev = check_for_rev(is_com, neutral, data)\n",
    "        if is_rev:\n",
    "            if is_com:\n",
    "                print(\"Abel group\")\n",
    "            else:\n",
    "                print(\"group\")\n",
    "        else:\n",
    "            if is_com:\n",
    "                print(\"commutative monoid\")\n",
    "            else:\n",
    "                print(\"monoid\")\n",
    "    else:\n",
    "        print(\"semigroup\")\n",
    "else:\n",
    "    print(\"magma\")"
   ]
  }
 ],
 "metadata": {
  "kernelspec": {
   "display_name": "base",
   "language": "python",
   "name": "base"
  },
  "language_info": {
   "codemirror_mode": {
    "name": "ipython",
    "version": 3
   },
   "file_extension": ".py",
   "mimetype": "text/x-python",
   "name": "python",
   "nbconvert_exporter": "python",
   "pygments_lexer": "ipython3",
   "version": "3.7.6"
  }
 },
 "nbformat": 4,
 "nbformat_minor": 4
}
